{
  "nbformat": 4,
  "nbformat_minor": 0,
  "metadata": {
    "colab": {
      "name": "TFM - Entrenamiento Modelo.ipynb",
      "provenance": [],
      "collapsed_sections": [],
      "include_colab_link": true
    },
    "kernelspec": {
      "name": "python3",
      "display_name": "Python 3"
    }
  },
  "cells": [
    {
      "cell_type": "markdown",
      "metadata": {
        "id": "view-in-github",
        "colab_type": "text"
      },
      "source": [
        "<a href=\"https://colab.research.google.com/github/Thabby07/richter-predictor/blob/master/TFM_Entrenamiento_Modelo.ipynb\" target=\"_parent\"><img src=\"https://colab.research.google.com/assets/colab-badge.svg\" alt=\"Open In Colab\"/></a>"
      ]
    },
    {
      "cell_type": "code",
      "metadata": {
        "id": "HPYLE4yEyAom",
        "colab_type": "code",
        "colab": {}
      },
      "source": [
        ""
      ],
      "execution_count": 0,
      "outputs": []
    },
    {
      "cell_type": "code",
      "metadata": {
        "id": "Xk2DIgn9yBxi",
        "colab_type": "code",
        "colab": {}
      },
      "source": [
        ""
      ],
      "execution_count": 0,
      "outputs": []
    },
    {
      "cell_type": "code",
      "metadata": {
        "id": "fsAVWVQnyB2K",
        "colab_type": "code",
        "colab": {}
      },
      "source": [
        ""
      ],
      "execution_count": 0,
      "outputs": []
    },
    {
      "cell_type": "code",
      "metadata": {
        "id": "HI6bTKLeyB65",
        "colab_type": "code",
        "colab": {}
      },
      "source": [
        "# TODO Change string categorical to numeric categorical\n",
        "# Now we exclude string categorical variables\n",
        "#train = train.select_dtypes(exclude=['object'])\n",
        "#test = test_values.select_dtypes(exclude=['object'])\n",
        "#train.head()"
      ],
      "execution_count": 0,
      "outputs": []
    },
    {
      "cell_type": "code",
      "metadata": {
        "id": "XTWgetIxyB9k",
        "colab_type": "code",
        "colab": {}
      },
      "source": [
        "# TODO Drop all variables that are NANs\n",
        "train = train.dropna()\n",
        "test = test.dropna()\n",
        "train.describe()"
      ],
      "execution_count": 0,
      "outputs": []
    },
    {
      "cell_type": "code",
      "metadata": {
        "id": "KBLGJD0LyB4i",
        "colab_type": "code",
        "colab": {}
      },
      "source": [
        "#X = train.iloc[:, 0:38].values\n",
        "#y = train.iloc[:, 38].values\n",
        "X = train.iloc[:, 0:30].values\n",
        "y = train.iloc[:, 30].values"
      ],
      "execution_count": 0,
      "outputs": []
    },
    {
      "cell_type": "code",
      "metadata": {
        "id": "02qnd0TeyBut",
        "colab_type": "code",
        "colab": {}
      },
      "source": [
        "# Partition train-test & scaler\n",
        "X_train, X_test, y_train, y_test = train_test_split(X, y, test_size=0.3, random_state=0)\n",
        "\n",
        "#sc = StandardScaler()\n",
        "#X_train = sc.fit_transform(X_train)\n",
        "#X_test = sc.transform(X_test)"
      ],
      "execution_count": 0,
      "outputs": []
    },
    {
      "cell_type": "code",
      "metadata": {
        "id": "vXWD5TPkyB0W",
        "colab_type": "code",
        "colab": {}
      },
      "source": [
        ""
      ],
      "execution_count": 0,
      "outputs": []
    },
    {
      "cell_type": "code",
      "metadata": {
        "id": "wPBuqNGaxmd4",
        "colab_type": "code",
        "colab": {}
      },
      "source": [
        "classifier = RandomForestClassifier(n_estimators=20, random_state=0)\n",
        "classifier.fit(train.iloc[:, 0:30], train.iloc[:, 30])\n",
        "y_pred = classifier.predict(test)"
      ],
      "execution_count": 0,
      "outputs": []
    },
    {
      "cell_type": "code",
      "metadata": {
        "id": "Ujq0XZNJx48C",
        "colab_type": "code",
        "colab": {}
      },
      "source": [
        "f1_micro_score = f1_score(y_test, y_pred, average='macro')\n",
        "print(f1_micro_score)"
      ],
      "execution_count": 0,
      "outputs": []
    },
    {
      "cell_type": "code",
      "metadata": {
        "id": "G9gtFmXtx5ci",
        "colab_type": "code",
        "colab": {}
      },
      "source": [
        "test.reset_index(level=0, inplace=True)"
      ],
      "execution_count": 0,
      "outputs": []
    },
    {
      "cell_type": "code",
      "metadata": {
        "id": "bg_tkb7Ex5h0",
        "colab_type": "code",
        "colab": {}
      },
      "source": [
        "output = pd.DataFrame({'building_id': test['building_id'], \n",
        "                       'damage_grade': y_pred})\n",
        "\n",
        "timestamp = str(np.rint(datetime.timestamp(datetime.now())).astype(int))\n",
        "\n",
        "path = \"/content/\" + timestamp + \"_competition_result.csv\"\n",
        "output.to_csv(path_or_buf=path, index=False)"
      ],
      "execution_count": 0,
      "outputs": []
    },
    {
      "cell_type": "code",
      "metadata": {
        "id": "t4a7eKYLx5mH",
        "colab_type": "code",
        "colab": {}
      },
      "source": [
        ""
      ],
      "execution_count": 0,
      "outputs": []
    },
    {
      "cell_type": "code",
      "metadata": {
        "id": "7cI7v7Wxx5gJ",
        "colab_type": "code",
        "colab": {}
      },
      "source": [
        ""
      ],
      "execution_count": 0,
      "outputs": []
    }
  ]
}