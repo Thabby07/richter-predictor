{
  "nbformat": 4,
  "nbformat_minor": 0,
  "metadata": {
    "colab": {
      "name": "TFM - Entrenamiento Modelo.ipynb",
      "provenance": [],
      "collapsed_sections": [],
      "toc_visible": true,
      "include_colab_link": true
    },
    "kernelspec": {
      "name": "python3",
      "display_name": "Python 3"
    }
  },
  "cells": [
    {
      "cell_type": "markdown",
      "metadata": {
        "id": "view-in-github",
        "colab_type": "text"
      },
      "source": [
        "<a href=\"https://colab.research.google.com/github/Thabby07/richter-predictor/blob/master/TFM_Entrenamiento_Modelo.ipynb\" target=\"_parent\"><img src=\"https://colab.research.google.com/assets/colab-badge.svg\" alt=\"Open In Colab\"/></a>"
      ]
    },
    {
      "cell_type": "code",
      "metadata": {
        "id": "wHk35ynqdSmx",
        "colab_type": "code",
        "colab": {}
      },
      "source": [
        "#pip install mord\n",
        "pip install sklearn-contrib-py-earth\n",
        "pip install keras\n",
        "pip install tensorflow==2.0.0-beta"
      ],
      "execution_count": 0,
      "outputs": []
    },
    {
      "cell_type": "code",
      "metadata": {
        "id": "HPYLE4yEyAom",
        "colab_type": "code",
        "colab": {}
      },
      "source": [
        "import pandas as pd\n",
        "import numpy as np\n",
        "import matplotlib.pyplot as plt\n",
        "import seaborn as sns\n",
        "from sklearn.model_selection import train_test_split\n",
        "from sklearn.preprocessing import StandardScaler\n",
        "from sklearn.ensemble import RandomForestClassifier\n",
        "from sklearn.metrics import f1_score\n",
        "from datetime import datetime\n",
        "import mord\n",
        "from sklearn.model_selection import cross_val_score\n",
        "from sklearn.model_selection import RandomizedSearchCV, GridSearchCV\n"
      ],
      "execution_count": 0,
      "outputs": []
    },
    {
      "cell_type": "code",
      "metadata": {
        "id": "Xk2DIgn9yBxi",
        "colab_type": "code",
        "colab": {}
      },
      "source": [
        "train = pd.read_csv('/content/train_processed.csv',sep=';').set_index('building_id')\n",
        "test = pd.read_csv('/content/test_processed.csv',sep=';').set_index('building_id')"
      ],
      "execution_count": 0,
      "outputs": []
    },
    {
      "cell_type": "code",
      "metadata": {
        "id": "0n9MC_gQblVn",
        "colab_type": "code",
        "outputId": "81f4be67-d304-4837-8b9d-c0a2279e26ca",
        "colab": {
          "base_uri": "https://localhost:8080/",
          "height": 191
        }
      },
      "source": [
        "print(train.head(1))\n",
        "print(test.head(1))"
      ],
      "execution_count": 0,
      "outputs": [
        {
          "output_type": "stream",
          "text": [
            "             geo_level_1_id  ...  legal_ownership_status_w\n",
            "building_id                  ...                          \n",
            "433870                   25  ...                         0\n",
            "\n",
            "[1 rows x 69 columns]\n",
            "             geo_level_1_id  ...  legal_ownership_status_w\n",
            "building_id                  ...                          \n",
            "300051                   17  ...                         0\n",
            "\n",
            "[1 rows x 68 columns]\n"
          ],
          "name": "stdout"
        }
      ]
    },
    {
      "cell_type": "code",
      "metadata": {
        "id": "RLi5FIJ3NODa",
        "colab_type": "code",
        "outputId": "f49241f7-3336-4226-ac20-ae06d19794d2",
        "colab": {
          "base_uri": "https://localhost:8080/",
          "height": 87
        }
      },
      "source": [
        "train['damage_grade'].value_counts().sort_index(ascending=True)"
      ],
      "execution_count": 0,
      "outputs": [
        {
          "output_type": "execute_result",
          "data": {
            "text/plain": [
              "1     1600\n",
              "2    18185\n",
              "3     9588\n",
              "Name: damage_grade, dtype: int64"
            ]
          },
          "metadata": {
            "tags": []
          },
          "execution_count": 28
        }
      ]
    },
    {
      "cell_type": "markdown",
      "metadata": {
        "id": "z9-8ozThPWLT",
        "colab_type": "text"
      },
      "source": [
        "Por tanto, del dataset procesado, el **grado 1** significa un **5.44%** del total, el **grado 2** un **61.91%** y el **grado 3** un **32.64%**."
      ]
    },
    {
      "cell_type": "code",
      "metadata": {
        "id": "t4a7eKYLx5mH",
        "colab_type": "code",
        "colab": {}
      },
      "source": [
        "X = train.drop(['damage_grade'], axis=1)\n",
        "y = train['damage_grade']\n",
        "X_train, X_test, y_train, y_test = train_test_split(X, y, test_size=0.2, random_state=0)"
      ],
      "execution_count": 0,
      "outputs": []
    },
    {
      "cell_type": "markdown",
      "metadata": {
        "id": "3xFyuBcBQmIz",
        "colab_type": "text"
      },
      "source": [
        "## Random Forest"
      ]
    },
    {
      "cell_type": "code",
      "metadata": {
        "id": "p3NKw9UQbTYm",
        "colab_type": "code",
        "colab": {}
      },
      "source": [
        "RF_classifier = RandomForestClassifier(n_estimators=150, min_samples_split=20, \n",
        "                                       max_features='sqrt',random_state=0)\n",
        "RF_classifier.fit(X_train, y_train)\n",
        "RF_pred = RF_classifier.predict(X_test)"
      ],
      "execution_count": 0,
      "outputs": []
    },
    {
      "cell_type": "code",
      "metadata": {
        "id": "SESTzJLWbTsc",
        "colab_type": "code",
        "outputId": "e306fed0-394b-4ad3-9ec4-01e6d0449a6a",
        "colab": {
          "base_uri": "https://localhost:8080/",
          "height": 35
        }
      },
      "source": [
        "f1_micro_score = f1_score(y_test, RF_pred, average='micro')\n",
        "print(f1_micro_score)"
      ],
      "execution_count": 0,
      "outputs": [
        {
          "output_type": "stream",
          "text": [
            "0.7189787234042553\n"
          ],
          "name": "stdout"
        }
      ]
    },
    {
      "cell_type": "code",
      "metadata": {
        "id": "737OONW0bTTY",
        "colab_type": "code",
        "colab": {}
      },
      "source": [
        "RF_pred = RF_classifier.predict(test)"
      ],
      "execution_count": 0,
      "outputs": []
    },
    {
      "cell_type": "code",
      "metadata": {
        "id": "0W_kUvk7bTNk",
        "colab_type": "code",
        "colab": {}
      },
      "source": [
        "test.reset_index(level=0, inplace=True)\n",
        "output = pd.DataFrame({'building_id': test['building_id'], \n",
        "                       'damage_grade': RF_pred})\n",
        "\n",
        "timestamp = str(np.rint(datetime.timestamp(datetime.now())).astype(int))\n",
        "\n",
        "path = \"/content/\" + timestamp + \"_RF_competition_result.csv\"\n",
        "output.to_csv(path_or_buf=path, index=False)"
      ],
      "execution_count": 0,
      "outputs": []
    },
    {
      "cell_type": "markdown",
      "metadata": {
        "id": "13K_ton8iSLV",
        "colab_type": "text"
      },
      "source": [
        "### Hiperparametrización del RF\n"
      ]
    },
    {
      "cell_type": "code",
      "metadata": {
        "id": "VxwjgTw4Y35Z",
        "colab_type": "code",
        "colab": {
          "base_uri": "https://localhost:8080/",
          "height": 104
        },
        "outputId": "3019dd38-5744-4443-b717-3b5e4cb85499"
      },
      "source": [
        "param_dist = {#\"n_estimators\": [150], # Number of trees in random forest, tested previously\n",
        "              \"max_features\": ['sqrt'], # Number of features to consider at every split\n",
        "              \"max_depth\": [4,8,16], # Maximum number of levels in tree\n",
        "              \"min_samples_split\": [20], #  Minimum number of samples required to split a node\n",
        "              \"min_samples_leaf\": [5,10,15,25,30], # Minimum number of samples required at each leaf node\n",
        "              \"bootstrap\": [True, False] # Method of selecting samples for training each tree\n",
        "              #\"criterion\": [\"mae\"]\n",
        "            }\n",
        "n_iter_search = 20\n",
        "# constructor\n",
        "RF_classifier =  RandomForestClassifier(n_estimators=150, min_samples_split=20, \n",
        "                                       max_features='sqrt',random_state=0)\n",
        "\n",
        "param_dist"
      ],
      "execution_count": 38,
      "outputs": [
        {
          "output_type": "execute_result",
          "data": {
            "text/plain": [
              "{'bootstrap': [True, False],\n",
              " 'max_depth': [4, 8, 16],\n",
              " 'max_features': ['sqrt'],\n",
              " 'min_samples_leaf': [5, 10, 15, 25, 30],\n",
              " 'min_samples_split': [20]}"
            ]
          },
          "metadata": {
            "tags": []
          },
          "execution_count": 38
        }
      ]
    },
    {
      "cell_type": "code",
      "metadata": {
        "id": "9cCx2VMOY4D1",
        "colab_type": "code",
        "colab": {
          "base_uri": "https://localhost:8080/",
          "height": 485
        },
        "outputId": "054558ae-f5eb-4a83-aadb-4d34fb5ad8cf"
      },
      "source": [
        "RF_classifier_randomized = RandomizedSearchCV(estimator=RF_classifier, param_distributions=param_dist,\n",
        "                                   n_iter=n_iter_search, cv=10)\n",
        "#RF_classifier_grid = GridSearchCV(estimator=RF_classifier, param_grid=param_dist, cv=5)\n",
        "\n",
        "# Fit the random search model\n",
        "RF_classifier_randomized.fit(X = X_train, y = y_train)"
      ],
      "execution_count": 28,
      "outputs": [
        {
          "output_type": "execute_result",
          "data": {
            "text/plain": [
              "RandomizedSearchCV(cv=10, error_score=nan,\n",
              "                   estimator=RandomForestClassifier(bootstrap=True,\n",
              "                                                    ccp_alpha=0.0,\n",
              "                                                    class_weight=None,\n",
              "                                                    criterion='gini',\n",
              "                                                    max_depth=None,\n",
              "                                                    max_features='sqrt',\n",
              "                                                    max_leaf_nodes=None,\n",
              "                                                    max_samples=None,\n",
              "                                                    min_impurity_decrease=0.0,\n",
              "                                                    min_impurity_split=None,\n",
              "                                                    min_samples_leaf=1,\n",
              "                                                    min_samples_split=20,\n",
              "                                                    min_weight_fraction_leaf=0.0,\n",
              "                                                    n_estimators=150,\n",
              "                                                    n_jo...\n",
              "                                                    oob_score=False,\n",
              "                                                    random_state=0, verbose=0,\n",
              "                                                    warm_start=False),\n",
              "                   iid='deprecated', n_iter=20, n_jobs=None,\n",
              "                   param_distributions={'bootstrap': [True, False],\n",
              "                                        'max_depth': [4, 8, 16],\n",
              "                                        'max_features': ['sqrt'],\n",
              "                                        'min_samples_leaf': [5, 10, 15, 25, 30],\n",
              "                                        'min_samples_split': [20]},\n",
              "                   pre_dispatch='2*n_jobs', random_state=None, refit=True,\n",
              "                   return_train_score=False, scoring=None, verbose=0)"
            ]
          },
          "metadata": {
            "tags": []
          },
          "execution_count": 28
        }
      ]
    },
    {
      "cell_type": "code",
      "metadata": {
        "id": "fa73XierhVkf",
        "colab_type": "code",
        "colab": {}
      },
      "source": [
        "RF_classifier_randomized.fit(X_train, y_train)\n",
        "RF_pred_rd = RF_classifier_randomized.predict(X_test)"
      ],
      "execution_count": 0,
      "outputs": []
    },
    {
      "cell_type": "code",
      "metadata": {
        "id": "FvSRUp2Kg4JE",
        "colab_type": "code",
        "colab": {
          "base_uri": "https://localhost:8080/",
          "height": 35
        },
        "outputId": "057fc587-f8b7-4a25-c8ad-f56a7e164973"
      },
      "source": [
        "f1_micro_score = f1_score(y_test, RF_pred_rd, average='micro')\n",
        "print(f1_micro_score)"
      ],
      "execution_count": 36,
      "outputs": [
        {
          "output_type": "stream",
          "text": [
            "0.7096170212765958\n"
          ],
          "name": "stdout"
        }
      ]
    },
    {
      "cell_type": "markdown",
      "metadata": {
        "id": "47yekhVzjO5t",
        "colab_type": "text"
      },
      "source": [
        "A priori, parece que la métrica baja un poco. Veamos con la muestra real de test."
      ]
    },
    {
      "cell_type": "code",
      "metadata": {
        "id": "a7VaPhayY4Mg",
        "colab_type": "code",
        "colab": {
          "base_uri": "https://localhost:8080/",
          "height": 156
        },
        "outputId": "400e6307-ce5b-432a-e011-f193313e743e"
      },
      "source": [
        "best_rf_rd_classifier = RF_classifier_randomized.best_estimator_\n",
        "best_rf_rd_classifier"
      ],
      "execution_count": 29,
      "outputs": [
        {
          "output_type": "execute_result",
          "data": {
            "text/plain": [
              "RandomForestClassifier(bootstrap=False, ccp_alpha=0.0, class_weight=None,\n",
              "                       criterion='gini', max_depth=16, max_features='sqrt',\n",
              "                       max_leaf_nodes=None, max_samples=None,\n",
              "                       min_impurity_decrease=0.0, min_impurity_split=None,\n",
              "                       min_samples_leaf=10, min_samples_split=20,\n",
              "                       min_weight_fraction_leaf=0.0, n_estimators=150,\n",
              "                       n_jobs=None, oob_score=False, random_state=0, verbose=0,\n",
              "                       warm_start=False)"
            ]
          },
          "metadata": {
            "tags": []
          },
          "execution_count": 29
        }
      ]
    },
    {
      "cell_type": "code",
      "metadata": {
        "id": "dirH2BBsY4fd",
        "colab_type": "code",
        "colab": {}
      },
      "source": [
        "#Ajustamos el modelo sobre toda la muestra\n",
        "best_rf_rd_classifier.fit(X = train.drop(['damage_grade'], axis=1), y = train['damage_grade'])\n",
        "y_pred_opt_rs = best_rf_rd_classifier.predict(X = test)"
      ],
      "execution_count": 0,
      "outputs": []
    },
    {
      "cell_type": "code",
      "metadata": {
        "id": "y5UVSZ0ZY4pQ",
        "colab_type": "code",
        "colab": {
          "base_uri": "https://localhost:8080/",
          "height": 260
        },
        "outputId": "c0e959c6-55b1-4786-c119-b762d6edb58c"
      },
      "source": [
        "best_rf_rd_classifier.feature_importances_"
      ],
      "execution_count": 31,
      "outputs": [
        {
          "output_type": "execute_result",
          "data": {
            "text/plain": [
              "array([0.41654722, 0.23272224, 0.17114465, 0.        , 0.05320408,\n",
              "       0.06419544, 0.05061157, 0.        , 0.        , 0.        ,\n",
              "       0.        , 0.        , 0.        , 0.01157479, 0.        ,\n",
              "       0.        , 0.        , 0.        , 0.        , 0.        ,\n",
              "       0.        , 0.        , 0.        , 0.        , 0.        ,\n",
              "       0.        , 0.        , 0.        , 0.        , 0.        ,\n",
              "       0.        , 0.        , 0.        , 0.        , 0.        ,\n",
              "       0.        , 0.        , 0.        , 0.        , 0.        ,\n",
              "       0.        , 0.        , 0.        , 0.        , 0.        ,\n",
              "       0.        , 0.        , 0.        , 0.        , 0.        ,\n",
              "       0.        , 0.        , 0.        , 0.        , 0.        ,\n",
              "       0.        , 0.        , 0.        , 0.        , 0.        ,\n",
              "       0.        , 0.        , 0.        , 0.        , 0.        ,\n",
              "       0.        , 0.        , 0.        ])"
            ]
          },
          "metadata": {
            "tags": []
          },
          "execution_count": 31
        }
      ]
    },
    {
      "cell_type": "code",
      "metadata": {
        "id": "OT7Y5OASY41I",
        "colab_type": "code",
        "colab": {
          "base_uri": "https://localhost:8080/",
          "height": 35
        },
        "outputId": "131f62f4-3f81-42b0-c690-3d4806e909ce"
      },
      "source": [
        "# Ocurrencias\n",
        "unique, counts = np.unique(y_pred_opt_rs, return_counts=True)\n",
        "dict(zip(unique, counts))"
      ],
      "execution_count": 32,
      "outputs": [
        {
          "output_type": "execute_result",
          "data": {
            "text/plain": [
              "{1: 92, 2: 73130, 3: 13646}"
            ]
          },
          "metadata": {
            "tags": []
          },
          "execution_count": 32
        }
      ]
    },
    {
      "cell_type": "code",
      "metadata": {
        "id": "5jhzY3XcY5Cb",
        "colab_type": "code",
        "colab": {}
      },
      "source": [
        "test.reset_index(level=0, inplace=True)\n",
        "output = pd.DataFrame({'building_id': test['building_id'], \n",
        "                       'damage_grade': y_pred_opt_rs})\n",
        "\n",
        "timestamp = str(np.rint(datetime.timestamp(datetime.now())).astype(int))\n",
        "\n",
        "path = \"/content/\" + timestamp + \"_RF_hiperparam_competition_result.csv\"\n",
        "output.to_csv(path_or_buf=path, index=False)"
      ],
      "execution_count": 0,
      "outputs": []
    },
    {
      "cell_type": "markdown",
      "metadata": {
        "id": "gY7aVEFkgpKN",
        "colab_type": "text"
      },
      "source": [
        "Es mejor el primer modelo del RamdonForest así que inspeccionamos las variables más importantes:\n",
        "\n",
        "Enlace de interés https://towardsdatascience.com/running-random-forests-inspect-the-feature-importances-with-this-code-2b00dd72b92e\n"
      ]
    },
    {
      "cell_type": "code",
      "metadata": {
        "id": "vNzS19c2gs-b",
        "colab_type": "code",
        "colab": {}
      },
      "source": [
        "feature_importances = pd.DataFrame(RF_classifier.feature_importances_,\n",
        "                                   index = X_train.columns,\n",
        "                                    columns=['importance']).sort_values('importance',                                                                 ascending=False)"
      ],
      "execution_count": 0,
      "outputs": []
    },
    {
      "cell_type": "code",
      "metadata": {
        "id": "pAxd6kiNkNkm",
        "colab_type": "code",
        "colab": {
          "base_uri": "https://localhost:8080/",
          "height": 263
        },
        "outputId": "d8135459-fbb3-4dd9-da30-5587d010a236"
      },
      "source": [
        "feature_importances[feature_importances['importance'] > 0.0]"
      ],
      "execution_count": 44,
      "outputs": [
        {
          "output_type": "execute_result",
          "data": {
            "text/html": [
              "<div>\n",
              "<style scoped>\n",
              "    .dataframe tbody tr th:only-of-type {\n",
              "        vertical-align: middle;\n",
              "    }\n",
              "\n",
              "    .dataframe tbody tr th {\n",
              "        vertical-align: top;\n",
              "    }\n",
              "\n",
              "    .dataframe thead th {\n",
              "        text-align: right;\n",
              "    }\n",
              "</style>\n",
              "<table border=\"1\" class=\"dataframe\">\n",
              "  <thead>\n",
              "    <tr style=\"text-align: right;\">\n",
              "      <th></th>\n",
              "      <th>importance</th>\n",
              "    </tr>\n",
              "  </thead>\n",
              "  <tbody>\n",
              "    <tr>\n",
              "      <th>geo_level_1_id</th>\n",
              "      <td>0.307613</td>\n",
              "    </tr>\n",
              "    <tr>\n",
              "      <th>geo_level_2_id</th>\n",
              "      <td>0.243525</td>\n",
              "    </tr>\n",
              "    <tr>\n",
              "      <th>geo_level_3_id</th>\n",
              "      <td>0.213218</td>\n",
              "    </tr>\n",
              "    <tr>\n",
              "      <th>area_percentage</th>\n",
              "      <td>0.086448</td>\n",
              "    </tr>\n",
              "    <tr>\n",
              "      <th>age</th>\n",
              "      <td>0.080472</td>\n",
              "    </tr>\n",
              "    <tr>\n",
              "      <th>height_percentage</th>\n",
              "      <td>0.058715</td>\n",
              "    </tr>\n",
              "    <tr>\n",
              "      <th>has_superstructure_timber</th>\n",
              "      <td>0.010011</td>\n",
              "    </tr>\n",
              "  </tbody>\n",
              "</table>\n",
              "</div>"
            ],
            "text/plain": [
              "                           importance\n",
              "geo_level_1_id               0.307613\n",
              "geo_level_2_id               0.243525\n",
              "geo_level_3_id               0.213218\n",
              "area_percentage              0.086448\n",
              "age                          0.080472\n",
              "height_percentage            0.058715\n",
              "has_superstructure_timber    0.010011"
            ]
          },
          "metadata": {
            "tags": []
          },
          "execution_count": 44
        }
      ]
    },
    {
      "cell_type": "markdown",
      "metadata": {
        "id": "zUPJX3_sH25r",
        "colab_type": "text"
      },
      "source": [
        "## Redes neuronales"
      ]
    },
    {
      "cell_type": "markdown",
      "metadata": {
        "id": "rM77jvKTgbuh",
        "colab_type": "text"
      },
      "source": [
        "### KERAS\n",
        "\n",
        "Enlaces de interés:\n",
        "\n",
        "https://medium.com/neuron4/introducci%C3%B3n-al-deep-learning-con-keras-b51c47560565"
      ]
    },
    {
      "cell_type": "code",
      "metadata": {
        "id": "1hkBPrcpOEJK",
        "colab_type": "code",
        "colab": {}
      },
      "source": [
        "#TODO Vamos a borrar las variables geograficas por probar\n",
        "train = train.drop(['geo_level_1_id', 'geo_level_2_id', 'geo_level_3_id'], axis=1)\n",
        "test = test.drop(['geo_level_1_id', 'geo_level_2_id', 'geo_level_3_id'], axis=1)"
      ],
      "execution_count": 0,
      "outputs": []
    },
    {
      "cell_type": "code",
      "metadata": {
        "id": "5Uv4dRNRTz4t",
        "colab_type": "code",
        "colab": {}
      },
      "source": [
        "# BORRAMOS EL REGISTRO CON BUILDING ID  811. AVERIGUAR POR QUE NO MAPEA\n",
        "X = train.drop(['damage_grade'], axis=1).dropna()\n",
        "y = train[['damage_grade']].dropna()"
      ],
      "execution_count": 0,
      "outputs": []
    },
    {
      "cell_type": "code",
      "metadata": {
        "id": "5Ir6CuTdJtY7",
        "colab_type": "code",
        "colab": {}
      },
      "source": [
        "# Keras espera el target como una variable que expresa la probabilidad de que sea cierta o no\n",
        "# Es decir, nuestro target serán 3 variables, damage_grade_1, iden_2, idem_3\n",
        "from sklearn.preprocessing import OneHotEncoder\n",
        "onehotencoder = OneHotEncoder() \n",
        "y = onehotencoder.fit_transform(y).toarray()\n",
        "y = pd.DataFrame(y)\n",
        "y.columns = ['damage_grade_1','damage_grade_2','damage_grade_3']\n",
        "y['damage_grade_1'] = y['damage_grade_1'].astype('int64')\n",
        "y['damage_grade_2'] = y['damage_grade_2'].astype('int64')\n",
        "y['damage_grade_3'] = y['damage_grade_3'].astype('int64')"
      ],
      "execution_count": 0,
      "outputs": []
    },
    {
      "cell_type": "code",
      "metadata": {
        "id": "SdkGzjwRNOMa",
        "colab_type": "code",
        "outputId": "e10dba42-68aa-49a1-d40b-e647acb97c6a",
        "colab": {
          "base_uri": "https://localhost:8080/",
          "height": 69
        }
      },
      "source": [
        "# Comprobamos que no ha variado la muestra tras realizar el 'one hot encoding'.\n",
        "#1    25124\n",
        "#2    148259\n",
        "#3    87218\n",
        "print(y['damage_grade_1'].sum())\n",
        "print(y['damage_grade_2'].sum())\n",
        "print(y['damage_grade_3'].sum())"
      ],
      "execution_count": 0,
      "outputs": [
        {
          "output_type": "stream",
          "text": [
            "25124\n",
            "148259\n",
            "87218\n"
          ],
          "name": "stdout"
        }
      ]
    },
    {
      "cell_type": "code",
      "metadata": {
        "id": "k36nz-rmgx8H",
        "colab_type": "code",
        "colab": {}
      },
      "source": [
        "def get_f1(y_true, y_pred): #taken from old keras source code\n",
        "    y_pred = tf.convert_to_tensor(y_pred, np.float32)\n",
        "    y_true = tf.convert_to_tensor(y_true, np.float32)\n",
        "    true_positives = K.sum(K.round(K.clip(y_true * y_pred, 0, 1)))\n",
        "    possible_positives = K.sum(K.round(K.clip(y_true, 0, 1)))\n",
        "    predicted_positives = K.sum(K.round(K.clip(y_pred, 0, 1)))\n",
        "    precision = true_positives / (predicted_positives + K.epsilon())\n",
        "    recall = true_positives / (possible_positives + K.epsilon())\n",
        "    f1_val = 2*(precision*recall)/(precision+recall+K.epsilon())\n",
        "    return f1_val"
      ],
      "execution_count": 0,
      "outputs": []
    },
    {
      "cell_type": "code",
      "metadata": {
        "id": "8j9QI7heR1H-",
        "colab_type": "code",
        "colab": {}
      },
      "source": [
        "# Calculate target class  weight\n",
        "from sklearn.utils import class_weight, compute_class_weight\n",
        "from sklearn.utils.class_weight import compute_class_weight\n",
        "\n",
        "\n",
        "weights = class_weight.compute_sample_weight('balanced', y)\n"
      ],
      "execution_count": 0,
      "outputs": []
    },
    {
      "cell_type": "code",
      "metadata": {
        "id": "vvqqBB4KyqrZ",
        "colab_type": "code",
        "outputId": "138e0b05-2217-4a05-cc8c-4133958e2bc3",
        "colab": {
          "base_uri": "https://localhost:8080/",
          "height": 208
        }
      },
      "source": [
        "# first neural network with keras tutorial\n",
        "from numpy import loadtxt\n",
        "from keras.models import Sequential\n",
        "from keras.layers import Dense, Dropout\n",
        "import tensorflow as tf\n",
        "import keras.backend as K\n",
        "from keras import regularizers \n",
        "from keras.metrics import categorical_accuracy\n",
        "\n",
        "# define the keras model\n",
        "model = Sequential()\n",
        "# 12 8 3 get_f1  Accuracy: 57.08 - same predictions\n",
        "# 25 12 3 get_f1 Accuracy: 56.89 - same predictions\n",
        "# 25 3 get_f1    Accuracy: 56.89 - same predictions\n",
        "# 8 8 3 get_f1   Accuracy: 57.04 - same predictions\n",
        "\n",
        "# 8 8 3 accuracy                     Accuracy: 71.46\n",
        "# 8 8 3 accuracy + cat_crossentropy  Accuracy: 56.89\n",
        "# 128 64 32                          Accuracy: 39.76\n",
        "# 8 3                                Accuracy: 71.54                             \n",
        "# 8 3 sigmoid                        Accuracy: 71.26\n",
        "# 8 3 dropout (1)                    Accuracy: 71.26\n",
        "# 8 3 dropout (1)  / l2 regu         Accuracy: 71.26\n",
        "# 8 3 dropout (1)  / l2 regu categorical_accuracy  Accuracy: 56.89\n",
        "# 16 3 dropout (1) / l2 regu         Accuracy: 71.26  \n",
        "# 16 3 dropout (1) / l2 regu + no geo info    Accuracy: 72.05     \n",
        "# 16 3 dropout (1) / l2 regu + no geo info + weight target   Accuracy: 72.33\n",
        "\n",
        "\n",
        "#model.add(Dropout(0.5))\n",
        "cols_number = 65\n",
        "model.add(Dense(16, input_dim=cols_number, activation='relu', kernel_regularizer=regularizers.l2(0.0015)))\n",
        "model.add(Dropout(0.15))\n",
        "#model.add(Dense(64, activation='relu'))\n",
        "#model.add(Dense(32, activation='relu'))\n",
        "model.add(Dense(3, activation='sigmoid'))\n",
        "# compile the keras model\n",
        "# TODO First, accuracy\n",
        "model.compile(loss='binary_crossentropy', optimizer='adam', metrics=['accuracy'])\n",
        "# fit the keras model on the dataset\n",
        "model.fit(X, y, epochs=5, class_weight=weights, batch_size=10)"
      ],
      "execution_count": 0,
      "outputs": [
        {
          "output_type": "stream",
          "text": [
            "Epoch 1/5\n",
            "260601/260601 [==============================] - 37s 141us/step - loss: 0.5236 - acc: 0.7155\n",
            "Epoch 2/5\n",
            "260601/260601 [==============================] - 36s 139us/step - loss: 0.5081 - acc: 0.7204\n",
            "Epoch 3/5\n",
            "260601/260601 [==============================] - 37s 141us/step - loss: 0.5073 - acc: 0.7203\n",
            "Epoch 4/5\n",
            "260601/260601 [==============================] - 37s 141us/step - loss: 0.5073 - acc: 0.7205\n",
            "Epoch 5/5\n",
            "260601/260601 [==============================] - 36s 140us/step - loss: 0.5070 - acc: 0.7208\n"
          ],
          "name": "stdout"
        },
        {
          "output_type": "execute_result",
          "data": {
            "text/plain": [
              "<keras.callbacks.History at 0x7f60e3a040b8>"
            ]
          },
          "metadata": {
            "tags": []
          },
          "execution_count": 96
        }
      ]
    },
    {
      "cell_type": "code",
      "metadata": {
        "id": "v0Xu6KOYXYES",
        "colab_type": "code",
        "outputId": "906d5e02-1942-4071-fe42-af903fa79e52",
        "colab": {
          "base_uri": "https://localhost:8080/",
          "height": 52
        }
      },
      "source": [
        "# evaluate the keras model\n",
        "_, accuracy = model.evaluate(X, y)\n",
        "print('Accuracy: %.2f' % (accuracy*100))"
      ],
      "execution_count": 0,
      "outputs": [
        {
          "output_type": "stream",
          "text": [
            "260601/260601 [==============================] - 6s 24us/step\n",
            "Accuracy: 72.33\n"
          ],
          "name": "stdout"
        }
      ]
    },
    {
      "cell_type": "code",
      "metadata": {
        "id": "dsHtwz8hlisR",
        "colab_type": "code",
        "outputId": "f7277088-b7f0-4955-c4ac-c4eae1abb158",
        "colab": {
          "base_uri": "https://localhost:8080/",
          "height": 35
        }
      },
      "source": [
        "predicted = model.predict(test)\n",
        "type(predicted)"
      ],
      "execution_count": 0,
      "outputs": [
        {
          "output_type": "execute_result",
          "data": {
            "text/plain": [
              "numpy.ndarray"
            ]
          },
          "metadata": {
            "tags": []
          },
          "execution_count": 120
        }
      ]
    },
    {
      "cell_type": "code",
      "metadata": {
        "id": "JGdTDVfrlsMY",
        "colab_type": "code",
        "outputId": "bc9799f7-c07c-4c4d-8d16-979db83666c2",
        "colab": {
          "base_uri": "https://localhost:8080/",
          "height": 52
        }
      },
      "source": [
        "np.unique(predicted) # Wrong!! Returns always the same prob"
      ],
      "execution_count": 0,
      "outputs": [
        {
          "output_type": "execute_result",
          "data": {
            "text/plain": [
              "array([0.00305241, 0.00321513, 0.00349432, ..., 0.8698186 , 0.87245464,\n",
              "       0.87306696], dtype=float32)"
            ]
          },
          "metadata": {
            "tags": []
          },
          "execution_count": 77
        }
      ]
    },
    {
      "cell_type": "code",
      "metadata": {
        "id": "BHeB5FmqaH0a",
        "colab_type": "code",
        "outputId": "8afc48d4-551a-46aa-ec5f-5b25f99af176",
        "colab": {
          "base_uri": "https://localhost:8080/",
          "height": 104
        }
      },
      "source": [
        "predicted = pd.DataFrame(predicted)\n",
        "predicted.columns = ['damage_grade_1','damage_grade_2','damage_grade_3']\n",
        "# Asignamos una categoria final según la distribución de probabilidad de la función de activación final.\n",
        "\n",
        "df_compared = pd.DataFrame(predicted.idxmax(axis=1))\n",
        "df_compared.columns = ['damage_grade']\n",
        "df_compared.groupby('damage_grade').size()\n"
      ],
      "execution_count": 0,
      "outputs": [
        {
          "output_type": "execute_result",
          "data": {
            "text/plain": [
              "damage_grade\n",
              "damage_grade_1     4852\n",
              "damage_grade_2    78712\n",
              "damage_grade_3     3304\n",
              "dtype: int64"
            ]
          },
          "metadata": {
            "tags": []
          },
          "execution_count": 109
        }
      ]
    },
    {
      "cell_type": "code",
      "metadata": {
        "id": "f5-N-RGS79N1",
        "colab_type": "code",
        "outputId": "e0c7b29c-4bba-43ab-b21f-3e44c09fc728",
        "colab": {
          "base_uri": "https://localhost:8080/",
          "height": 35
        }
      },
      "source": [
        "keras_pred = df_compared.replace(to_replace=r'damage_grade_*', value='', regex=True).astype('int64').to_numpy().flatten()\n"
      ],
      "execution_count": 0,
      "outputs": [
        {
          "output_type": "execute_result",
          "data": {
            "text/plain": [
              "array([2, 2, 2, ..., 2, 2, 2])"
            ]
          },
          "metadata": {
            "tags": []
          },
          "execution_count": 134
        }
      ]
    },
    {
      "cell_type": "code",
      "metadata": {
        "id": "ItJe7gePZZ2l",
        "colab_type": "code",
        "colab": {}
      },
      "source": [
        "test.reset_index(level=0, inplace=True)"
      ],
      "execution_count": 0,
      "outputs": []
    },
    {
      "cell_type": "code",
      "metadata": {
        "id": "8kiZB751ZXlO",
        "colab_type": "code",
        "colab": {}
      },
      "source": [
        "output = pd.DataFrame({'building_id': test['building_id'], \n",
        "                       'damage_grade': keras_pred})\n",
        "\n",
        "timestamp = str(np.rint(datetime.timestamp(datetime.now())).astype(int))\n",
        "\n",
        "path = \"/content/\" + timestamp + \"_kerasNN_competition_result.csv\"\n",
        "output.to_csv(path_or_buf=path, index=False)"
      ],
      "execution_count": 0,
      "outputs": []
    },
    {
      "cell_type": "code",
      "metadata": {
        "id": "7TAuN0t0cqr4",
        "colab_type": "code",
        "outputId": "3ade2380-7810-4d94-8127-31d3d8f5370b",
        "colab": {
          "base_uri": "https://localhost:8080/",
          "height": 139
        }
      },
      "source": [
        "keras_pred.to_numpy()"
      ],
      "execution_count": 0,
      "outputs": [
        {
          "output_type": "execute_result",
          "data": {
            "text/plain": [
              "array([[2],\n",
              "       [2],\n",
              "       [2],\n",
              "       ...,\n",
              "       [2],\n",
              "       [2],\n",
              "       [2]])"
            ]
          },
          "metadata": {
            "tags": []
          },
          "execution_count": 124
        }
      ]
    },
    {
      "cell_type": "markdown",
      "metadata": {
        "id": "QWEJ-gISmxMv",
        "colab_type": "text"
      },
      "source": [
        "### *Pytorch* (DEPRECATED)\n",
        "\n",
        "Source: https://www.ethanrosenthal.com/2018/12/06/spacecutter-ordinal-regression/"
      ]
    },
    {
      "cell_type": "code",
      "metadata": {
        "id": "UtsFHnTdm28m",
        "colab_type": "code",
        "colab": {}
      },
      "source": [
        "#pip install torch==1.4.0+cpu torchvision==0.5.0+cpu -f https://download.pytorch.org/whl/torch_stable.html\n",
        "import pandas as pd\n",
        "import numpy as np\n",
        "from collections import Counter\n",
        "from sklearn.model_selection import train_test_split\n",
        "from sklearn.preprocessing import LabelEncoder\n",
        "import torch\n",
        "from torch.utils.data import Dataset, DataLoader\n",
        "import torch.optim as torch_optim\n",
        "import torch.nn as nn\n",
        "import torch.nn.functional as F\n",
        "from torchvision import models\n",
        "from datetime import datetime"
      ],
      "execution_count": 0,
      "outputs": []
    },
    {
      "cell_type": "code",
      "metadata": {
        "id": "_3kDjaYdf7po",
        "colab_type": "code",
        "outputId": "a36d063f-f40d-4f8c-ebf8-13be67ea9bd1",
        "colab": {
          "base_uri": "https://localhost:8080/",
          "height": 253
        }
      },
      "source": [
        "train_values = pd.read_csv('/content/train_values.csv')\n",
        "train_labels = pd.read_csv('/content/train_labels.csv')\n",
        "test_values = pd.read_csv('/content/test_values.csv')\n",
        "train = train_values.set_index('building_id').join(train_labels.set_index('building_id'), how='left')\n",
        "train.head()"
      ],
      "execution_count": 0,
      "outputs": [
        {
          "output_type": "execute_result",
          "data": {
            "text/html": [
              "<div>\n",
              "<style scoped>\n",
              "    .dataframe tbody tr th:only-of-type {\n",
              "        vertical-align: middle;\n",
              "    }\n",
              "\n",
              "    .dataframe tbody tr th {\n",
              "        vertical-align: top;\n",
              "    }\n",
              "\n",
              "    .dataframe thead th {\n",
              "        text-align: right;\n",
              "    }\n",
              "</style>\n",
              "<table border=\"1\" class=\"dataframe\">\n",
              "  <thead>\n",
              "    <tr style=\"text-align: right;\">\n",
              "      <th></th>\n",
              "      <th>geo_level_1_id</th>\n",
              "      <th>geo_level_2_id</th>\n",
              "      <th>geo_level_3_id</th>\n",
              "      <th>count_floors_pre_eq</th>\n",
              "      <th>age</th>\n",
              "      <th>area_percentage</th>\n",
              "      <th>height_percentage</th>\n",
              "      <th>land_surface_condition</th>\n",
              "      <th>foundation_type</th>\n",
              "      <th>roof_type</th>\n",
              "      <th>ground_floor_type</th>\n",
              "      <th>other_floor_type</th>\n",
              "      <th>position</th>\n",
              "      <th>plan_configuration</th>\n",
              "      <th>has_superstructure_adobe_mud</th>\n",
              "      <th>has_superstructure_mud_mortar_stone</th>\n",
              "      <th>has_superstructure_stone_flag</th>\n",
              "      <th>has_superstructure_cement_mortar_stone</th>\n",
              "      <th>has_superstructure_mud_mortar_brick</th>\n",
              "      <th>has_superstructure_cement_mortar_brick</th>\n",
              "      <th>has_superstructure_timber</th>\n",
              "      <th>has_superstructure_bamboo</th>\n",
              "      <th>has_superstructure_rc_non_engineered</th>\n",
              "      <th>has_superstructure_rc_engineered</th>\n",
              "      <th>has_superstructure_other</th>\n",
              "      <th>legal_ownership_status</th>\n",
              "      <th>count_families</th>\n",
              "      <th>has_secondary_use</th>\n",
              "      <th>has_secondary_use_agriculture</th>\n",
              "      <th>has_secondary_use_hotel</th>\n",
              "      <th>has_secondary_use_rental</th>\n",
              "      <th>has_secondary_use_institution</th>\n",
              "      <th>has_secondary_use_school</th>\n",
              "      <th>has_secondary_use_industry</th>\n",
              "      <th>has_secondary_use_health_post</th>\n",
              "      <th>has_secondary_use_gov_office</th>\n",
              "      <th>has_secondary_use_use_police</th>\n",
              "      <th>has_secondary_use_other</th>\n",
              "      <th>damage_grade</th>\n",
              "    </tr>\n",
              "    <tr>\n",
              "      <th>building_id</th>\n",
              "      <th></th>\n",
              "      <th></th>\n",
              "      <th></th>\n",
              "      <th></th>\n",
              "      <th></th>\n",
              "      <th></th>\n",
              "      <th></th>\n",
              "      <th></th>\n",
              "      <th></th>\n",
              "      <th></th>\n",
              "      <th></th>\n",
              "      <th></th>\n",
              "      <th></th>\n",
              "      <th></th>\n",
              "      <th></th>\n",
              "      <th></th>\n",
              "      <th></th>\n",
              "      <th></th>\n",
              "      <th></th>\n",
              "      <th></th>\n",
              "      <th></th>\n",
              "      <th></th>\n",
              "      <th></th>\n",
              "      <th></th>\n",
              "      <th></th>\n",
              "      <th></th>\n",
              "      <th></th>\n",
              "      <th></th>\n",
              "      <th></th>\n",
              "      <th></th>\n",
              "      <th></th>\n",
              "      <th></th>\n",
              "      <th></th>\n",
              "      <th></th>\n",
              "      <th></th>\n",
              "      <th></th>\n",
              "      <th></th>\n",
              "      <th></th>\n",
              "      <th></th>\n",
              "    </tr>\n",
              "  </thead>\n",
              "  <tbody>\n",
              "    <tr>\n",
              "      <th>802906</th>\n",
              "      <td>6</td>\n",
              "      <td>487</td>\n",
              "      <td>12198</td>\n",
              "      <td>2</td>\n",
              "      <td>30</td>\n",
              "      <td>6</td>\n",
              "      <td>5</td>\n",
              "      <td>t</td>\n",
              "      <td>r</td>\n",
              "      <td>n</td>\n",
              "      <td>f</td>\n",
              "      <td>q</td>\n",
              "      <td>t</td>\n",
              "      <td>d</td>\n",
              "      <td>1</td>\n",
              "      <td>1</td>\n",
              "      <td>0</td>\n",
              "      <td>0</td>\n",
              "      <td>0</td>\n",
              "      <td>0</td>\n",
              "      <td>0</td>\n",
              "      <td>0</td>\n",
              "      <td>0</td>\n",
              "      <td>0</td>\n",
              "      <td>0</td>\n",
              "      <td>v</td>\n",
              "      <td>1</td>\n",
              "      <td>0</td>\n",
              "      <td>0</td>\n",
              "      <td>0</td>\n",
              "      <td>0</td>\n",
              "      <td>0</td>\n",
              "      <td>0</td>\n",
              "      <td>0</td>\n",
              "      <td>0</td>\n",
              "      <td>0</td>\n",
              "      <td>0</td>\n",
              "      <td>0</td>\n",
              "      <td>3</td>\n",
              "    </tr>\n",
              "    <tr>\n",
              "      <th>28830</th>\n",
              "      <td>8</td>\n",
              "      <td>900</td>\n",
              "      <td>2812</td>\n",
              "      <td>2</td>\n",
              "      <td>10</td>\n",
              "      <td>8</td>\n",
              "      <td>7</td>\n",
              "      <td>o</td>\n",
              "      <td>r</td>\n",
              "      <td>n</td>\n",
              "      <td>x</td>\n",
              "      <td>q</td>\n",
              "      <td>s</td>\n",
              "      <td>d</td>\n",
              "      <td>0</td>\n",
              "      <td>1</td>\n",
              "      <td>0</td>\n",
              "      <td>0</td>\n",
              "      <td>0</td>\n",
              "      <td>0</td>\n",
              "      <td>0</td>\n",
              "      <td>0</td>\n",
              "      <td>0</td>\n",
              "      <td>0</td>\n",
              "      <td>0</td>\n",
              "      <td>v</td>\n",
              "      <td>1</td>\n",
              "      <td>0</td>\n",
              "      <td>0</td>\n",
              "      <td>0</td>\n",
              "      <td>0</td>\n",
              "      <td>0</td>\n",
              "      <td>0</td>\n",
              "      <td>0</td>\n",
              "      <td>0</td>\n",
              "      <td>0</td>\n",
              "      <td>0</td>\n",
              "      <td>0</td>\n",
              "      <td>2</td>\n",
              "    </tr>\n",
              "    <tr>\n",
              "      <th>94947</th>\n",
              "      <td>21</td>\n",
              "      <td>363</td>\n",
              "      <td>8973</td>\n",
              "      <td>2</td>\n",
              "      <td>10</td>\n",
              "      <td>5</td>\n",
              "      <td>5</td>\n",
              "      <td>t</td>\n",
              "      <td>r</td>\n",
              "      <td>n</td>\n",
              "      <td>f</td>\n",
              "      <td>x</td>\n",
              "      <td>t</td>\n",
              "      <td>d</td>\n",
              "      <td>0</td>\n",
              "      <td>1</td>\n",
              "      <td>0</td>\n",
              "      <td>0</td>\n",
              "      <td>0</td>\n",
              "      <td>0</td>\n",
              "      <td>0</td>\n",
              "      <td>0</td>\n",
              "      <td>0</td>\n",
              "      <td>0</td>\n",
              "      <td>0</td>\n",
              "      <td>v</td>\n",
              "      <td>1</td>\n",
              "      <td>0</td>\n",
              "      <td>0</td>\n",
              "      <td>0</td>\n",
              "      <td>0</td>\n",
              "      <td>0</td>\n",
              "      <td>0</td>\n",
              "      <td>0</td>\n",
              "      <td>0</td>\n",
              "      <td>0</td>\n",
              "      <td>0</td>\n",
              "      <td>0</td>\n",
              "      <td>3</td>\n",
              "    </tr>\n",
              "    <tr>\n",
              "      <th>590882</th>\n",
              "      <td>22</td>\n",
              "      <td>418</td>\n",
              "      <td>10694</td>\n",
              "      <td>2</td>\n",
              "      <td>10</td>\n",
              "      <td>6</td>\n",
              "      <td>5</td>\n",
              "      <td>t</td>\n",
              "      <td>r</td>\n",
              "      <td>n</td>\n",
              "      <td>f</td>\n",
              "      <td>x</td>\n",
              "      <td>s</td>\n",
              "      <td>d</td>\n",
              "      <td>0</td>\n",
              "      <td>1</td>\n",
              "      <td>0</td>\n",
              "      <td>0</td>\n",
              "      <td>0</td>\n",
              "      <td>0</td>\n",
              "      <td>1</td>\n",
              "      <td>1</td>\n",
              "      <td>0</td>\n",
              "      <td>0</td>\n",
              "      <td>0</td>\n",
              "      <td>v</td>\n",
              "      <td>1</td>\n",
              "      <td>0</td>\n",
              "      <td>0</td>\n",
              "      <td>0</td>\n",
              "      <td>0</td>\n",
              "      <td>0</td>\n",
              "      <td>0</td>\n",
              "      <td>0</td>\n",
              "      <td>0</td>\n",
              "      <td>0</td>\n",
              "      <td>0</td>\n",
              "      <td>0</td>\n",
              "      <td>2</td>\n",
              "    </tr>\n",
              "    <tr>\n",
              "      <th>201944</th>\n",
              "      <td>11</td>\n",
              "      <td>131</td>\n",
              "      <td>1488</td>\n",
              "      <td>3</td>\n",
              "      <td>30</td>\n",
              "      <td>8</td>\n",
              "      <td>9</td>\n",
              "      <td>t</td>\n",
              "      <td>r</td>\n",
              "      <td>n</td>\n",
              "      <td>f</td>\n",
              "      <td>x</td>\n",
              "      <td>s</td>\n",
              "      <td>d</td>\n",
              "      <td>1</td>\n",
              "      <td>0</td>\n",
              "      <td>0</td>\n",
              "      <td>0</td>\n",
              "      <td>0</td>\n",
              "      <td>0</td>\n",
              "      <td>0</td>\n",
              "      <td>0</td>\n",
              "      <td>0</td>\n",
              "      <td>0</td>\n",
              "      <td>0</td>\n",
              "      <td>v</td>\n",
              "      <td>1</td>\n",
              "      <td>0</td>\n",
              "      <td>0</td>\n",
              "      <td>0</td>\n",
              "      <td>0</td>\n",
              "      <td>0</td>\n",
              "      <td>0</td>\n",
              "      <td>0</td>\n",
              "      <td>0</td>\n",
              "      <td>0</td>\n",
              "      <td>0</td>\n",
              "      <td>0</td>\n",
              "      <td>3</td>\n",
              "    </tr>\n",
              "  </tbody>\n",
              "</table>\n",
              "</div>"
            ],
            "text/plain": [
              "             geo_level_1_id  ...  damage_grade\n",
              "building_id                  ...              \n",
              "802906                    6  ...             3\n",
              "28830                     8  ...             2\n",
              "94947                    21  ...             3\n",
              "590882                   22  ...             2\n",
              "201944                   11  ...             3\n",
              "\n",
              "[5 rows x 39 columns]"
            ]
          },
          "metadata": {
            "tags": []
          },
          "execution_count": 6
        }
      ]
    },
    {
      "cell_type": "markdown",
      "metadata": {
        "id": "ZtWO2GvHfgqN",
        "colab_type": "text"
      },
      "source": [
        "Vamos a eliminar las **variables identificadores geográficas**."
      ]
    },
    {
      "cell_type": "code",
      "metadata": {
        "id": "pGuMvJj7hAnN",
        "colab_type": "code",
        "colab": {}
      },
      "source": [
        "X = train.drop(columns=['damage_grade','geo_level_1_id','geo_level_2_id','geo_level_3_id']).dropna()\n",
        "y = train[['damage_grade']].dropna()"
      ],
      "execution_count": 0,
      "outputs": []
    },
    {
      "cell_type": "markdown",
      "metadata": {
        "id": "sucFOcQ1Ek8z",
        "colab_type": "text"
      },
      "source": [
        "Es necesario convertir las variables categóricas a numericas y luego tensorizar todas las variables (numericas + categoricas).\n"
      ]
    },
    {
      "cell_type": "code",
      "metadata": {
        "id": "1w4-GYobEuIh",
        "colab_type": "code",
        "colab": {}
      },
      "source": [
        "categorical_columns = X.select_dtypes('object').columns\n",
        "numerical_columns = X.select_dtypes('int64').columns"
      ],
      "execution_count": 0,
      "outputs": []
    },
    {
      "cell_type": "code",
      "metadata": {
        "id": "NJH6so6HFqFm",
        "colab_type": "code",
        "colab": {}
      },
      "source": [
        "for category in categorical_columns:\n",
        "    X[category] = X[category].astype('category')"
      ],
      "execution_count": 0,
      "outputs": []
    },
    {
      "cell_type": "code",
      "metadata": {
        "id": "QpfjVppZFp8d",
        "colab_type": "code",
        "colab": {}
      },
      "source": [
        "categorical_data = np.stack([X[col].cat.codes.values for col in categorical_columns], 1)\n",
        "categorical_data = torch.tensor(categorical_data, dtype=torch.int64)"
      ],
      "execution_count": 0,
      "outputs": []
    },
    {
      "cell_type": "code",
      "metadata": {
        "id": "I2zWFnm-Fp3K",
        "colab_type": "code",
        "colab": {}
      },
      "source": [
        "numerical_data = np.stack([X[col].values for col in numerical_columns], 1)\n",
        "numerical_data = torch.tensor(numerical_data, dtype=torch.float)"
      ],
      "execution_count": 0,
      "outputs": []
    },
    {
      "cell_type": "code",
      "metadata": {
        "id": "-CsfyDkEFp0E",
        "colab_type": "code",
        "outputId": "2f895458-ed8d-4f56-d60d-92376adbaf3a",
        "colab": {
          "base_uri": "https://localhost:8080/",
          "height": 35
        }
      },
      "source": [
        "outputs = torch.tensor(y['damage_grade'].values).flatten()\n",
        "outputs"
      ],
      "execution_count": 0,
      "outputs": [
        {
          "output_type": "execute_result",
          "data": {
            "text/plain": [
              "tensor([3, 2, 3,  ..., 3, 2, 3])"
            ]
          },
          "metadata": {
            "tags": []
          },
          "execution_count": 13
        }
      ]
    },
    {
      "cell_type": "code",
      "metadata": {
        "id": "ngHMVMAcM7vq",
        "colab_type": "code",
        "outputId": "16359802-03a6-4dd1-d48b-a0dd1fc43f65",
        "colab": {
          "base_uri": "https://localhost:8080/",
          "height": 69
        }
      },
      "source": [
        "print(categorical_data.shape)\n",
        "print(numerical_data.shape)\n",
        "print(outputs.shape)"
      ],
      "execution_count": 0,
      "outputs": [
        {
          "output_type": "stream",
          "text": [
            "torch.Size([260601, 8])\n",
            "torch.Size([260601, 27])\n",
            "torch.Size([260601])\n"
          ],
          "name": "stdout"
        }
      ]
    },
    {
      "cell_type": "markdown",
      "metadata": {
        "id": "YpzXGBiBNBwK",
        "colab_type": "text"
      },
      "source": [
        "However, a better way is to represent values in a categorical column is in the form of an N-dimensional vector, instead of a single integer. A vector is capable of capturing more information and can find relationships between different categorical values in a more appropriate way. Therefore, we will represent values in the categorical columns in the form of N-dimensional vectors. This process is called **embedding**."
      ]
    },
    {
      "cell_type": "code",
      "metadata": {
        "id": "tkthScQoM7-Q",
        "colab_type": "code",
        "outputId": "fdbd80b9-8c29-4934-939e-c063f4243a9b",
        "colab": {
          "base_uri": "https://localhost:8080/",
          "height": 35
        }
      },
      "source": [
        "categorical_column_sizes = [len(X[column].cat.categories) for column in categorical_columns]\n",
        "categorical_embedding_sizes = [(col_size, min(50, (col_size+1)//2)) for col_size in categorical_column_sizes]\n",
        "print(categorical_embedding_sizes)"
      ],
      "execution_count": 0,
      "outputs": [
        {
          "output_type": "stream",
          "text": [
            "[(3, 2), (5, 3), (3, 2), (5, 3), (4, 2), (4, 2), (10, 5), (4, 2)]\n"
          ],
          "name": "stdout"
        }
      ]
    },
    {
      "cell_type": "code",
      "metadata": {
        "id": "UiOZjkI-M8o4",
        "colab_type": "code",
        "colab": {}
      },
      "source": [
        "total_records = X.shape[0]\n",
        "test_records = int(total_records * .2)\n",
        "\n",
        "categorical_train_data = categorical_data[:total_records-test_records]\n",
        "categorical_test_data = categorical_data[total_records-test_records:total_records]\n",
        "numerical_train_data = numerical_data[:total_records-test_records]\n",
        "numerical_test_data = numerical_data[total_records-test_records:total_records]\n",
        "train_outputs = outputs[:total_records-test_records]\n",
        "test_outputs = outputs[total_records-test_records:total_records]"
      ],
      "execution_count": 0,
      "outputs": []
    },
    {
      "cell_type": "code",
      "metadata": {
        "id": "7EYOjUp4M8m6",
        "colab_type": "code",
        "outputId": "a3c5d1e0-95fe-4cff-f861-30e1201eefde",
        "colab": {
          "base_uri": "https://localhost:8080/",
          "height": 121
        }
      },
      "source": [
        "print(len(categorical_train_data))\n",
        "print(len(numerical_train_data))\n",
        "print(len(train_outputs))\n",
        "\n",
        "print(len(categorical_test_data))\n",
        "print(len(numerical_test_data))\n",
        "print(len(test_outputs))"
      ],
      "execution_count": 0,
      "outputs": [
        {
          "output_type": "stream",
          "text": [
            "208481\n",
            "208481\n",
            "208481\n",
            "52120\n",
            "52120\n",
            "52120\n"
          ],
          "name": "stdout"
        }
      ]
    },
    {
      "cell_type": "code",
      "metadata": {
        "id": "r-y5ubWT7kLH",
        "colab_type": "code",
        "outputId": "b3195d3b-1b24-490f-de51-9c5312f870b8",
        "colab": {
          "base_uri": "https://localhost:8080/",
          "height": 35
        }
      },
      "source": [
        "np.unique(outputs)"
      ],
      "execution_count": 0,
      "outputs": [
        {
          "output_type": "execute_result",
          "data": {
            "text/plain": [
              "array([1, 2, 3])"
            ]
          },
          "metadata": {
            "tags": []
          },
          "execution_count": 18
        }
      ]
    },
    {
      "cell_type": "code",
      "metadata": {
        "id": "gV5uSLJpM8km",
        "colab_type": "code",
        "colab": {}
      },
      "source": [
        "class Model(nn.Module):\n",
        "\n",
        "    def __init__(self, embedding_size, num_numerical_cols, output_size, layers, p=0.4):\n",
        "        super().__init__()\n",
        "        self.all_embeddings = nn.ModuleList([nn.Embedding(ni, nf) for ni, nf in embedding_size])\n",
        "        self.embedding_dropout = nn.Dropout(p)\n",
        "        self.batch_norm_num = nn.BatchNorm1d(num_numerical_cols)\n",
        "\n",
        "        all_layers = []\n",
        "        num_categorical_cols = sum((nf for ni, nf in embedding_size))\n",
        "        input_size = num_categorical_cols + num_numerical_cols\n",
        "\n",
        "        for i in layers:\n",
        "            # calculate dot product between inputs and weights\n",
        "            all_layers.append(nn.Linear(input_size, i))\n",
        "            # activation function\n",
        "            all_layers.append(nn.ReLU(inplace=True))\n",
        "            # apply batch normalization to the numerical columns\n",
        "            all_layers.append(nn.BatchNorm1d(i))\n",
        "            # avoid overfitting\n",
        "            all_layers.append(nn.Dropout(p))\n",
        "            input_size = i\n",
        "\n",
        "        all_layers.append(nn.Linear(layers[-1], output_size))\n",
        "\n",
        "        self.layers = nn.Sequential(*all_layers)\n",
        "\n",
        "    def forward(self, x_categorical, x_numerical):\n",
        "        embeddings = []\n",
        "        for i,e in enumerate(self.all_embeddings):\n",
        "            embeddings.append(e(x_categorical[:,i]))\n",
        "        x = torch.cat(embeddings, 1)\n",
        "        x = self.embedding_dropout(x)\n",
        "\n",
        "        x_numerical = self.batch_norm_num(x_numerical)\n",
        "        x = torch.cat([x, x_numerical], 1)\n",
        "        x = self.layers(x)\n",
        "        return x"
      ],
      "execution_count": 0,
      "outputs": []
    },
    {
      "cell_type": "code",
      "metadata": {
        "id": "ZAanMMywM8fF",
        "colab_type": "code",
        "colab": {}
      },
      "source": [
        "output_size = np.unique(outputs).size\n",
        "hidden_layers_neurons = [50] #[200,100,50]\n",
        "model = Model(categorical_embedding_sizes, numerical_data.shape[1], output_size, hidden_layers_neurons, p=0.4)"
      ],
      "execution_count": 0,
      "outputs": []
    },
    {
      "cell_type": "code",
      "metadata": {
        "id": "YUdD1tYMM8ch",
        "colab_type": "code",
        "outputId": "727247be-aced-4ecb-cdf5-7c0952c5b592",
        "colab": {
          "base_uri": "https://localhost:8080/",
          "height": 374
        }
      },
      "source": [
        "print(model)"
      ],
      "execution_count": 0,
      "outputs": [
        {
          "output_type": "stream",
          "text": [
            "Model(\n",
            "  (all_embeddings): ModuleList(\n",
            "    (0): Embedding(3, 2)\n",
            "    (1): Embedding(5, 3)\n",
            "    (2): Embedding(3, 2)\n",
            "    (3): Embedding(5, 3)\n",
            "    (4): Embedding(4, 2)\n",
            "    (5): Embedding(4, 2)\n",
            "    (6): Embedding(10, 5)\n",
            "    (7): Embedding(4, 2)\n",
            "  )\n",
            "  (embedding_dropout): Dropout(p=0.4, inplace=False)\n",
            "  (batch_norm_num): BatchNorm1d(27, eps=1e-05, momentum=0.1, affine=True, track_running_stats=True)\n",
            "  (layers): Sequential(\n",
            "    (0): Linear(in_features=48, out_features=50, bias=True)\n",
            "    (1): ReLU(inplace=True)\n",
            "    (2): BatchNorm1d(50, eps=1e-05, momentum=0.1, affine=True, track_running_stats=True)\n",
            "    (3): Dropout(p=0.4, inplace=False)\n",
            "    (4): Linear(in_features=50, out_features=3, bias=True)\n",
            "  )\n",
            ")\n"
          ],
          "name": "stdout"
        }
      ]
    },
    {
      "cell_type": "markdown",
      "metadata": {
        "id": "YhvEo1kiibT-",
        "colab_type": "text"
      },
      "source": [
        "Una vez creado el modelo vamos a definir la función de pérdida (de momento, **CrossEntropyLoss** *pero habrá que cambiarla* - para target no binario) y la función de optimización (**adam optimizer**). "
      ]
    },
    {
      "cell_type": "code",
      "metadata": {
        "id": "DTYlnAWlmUur",
        "colab_type": "code",
        "colab": {}
      },
      "source": [
        "def f1_loss(y_true:torch.Tensor, y_pred:torch.Tensor, is_training=False) -> torch.Tensor:\n",
        "    '''Calculate F1 score. Can work with gpu tensors\n",
        "    \n",
        "    The original implmentation is written by Michal Haltuf on Kaggle.\n",
        "    \n",
        "    Returns\n",
        "    -------\n",
        "    torch.Tensor\n",
        "        `ndim` == 1. 0 <= val <= 1\n",
        "    \n",
        "    Reference\n",
        "    ---------\n",
        "    - https://www.kaggle.com/rejpalcz/best-loss-function-for-f1-score-metric\n",
        "    - https://scikit-learn.org/stable/modules/generated/sklearn.metrics.f1_score.html#sklearn.metrics.f1_score\n",
        "    - https://discuss.pytorch.org/t/calculating-precision-recall-and-f1-score-in-case-of-multi-label-classification/28265/6\n",
        "    \n",
        "    '''\n",
        "    assert y_true.ndim == 1\n",
        "    assert y_pred.ndim == 1 or y_pred.ndim == 2\n",
        "    \n",
        "    if y_pred.ndim == 2:\n",
        "        y_pred = y_pred.argmax(dim=1)\n",
        "        \n",
        "    \n",
        "    tp = (y_true * y_pred).sum().to(torch.float32)\n",
        "    tn = ((1 - y_true) * (1 - y_pred)).sum().to(torch.float32)\n",
        "    fp = ((1 - y_true) * y_pred).sum().to(torch.float32)\n",
        "    fn = (y_true * (1 - y_pred)).sum().to(torch.float32)\n",
        "    \n",
        "    epsilon = 1e-7\n",
        "    \n",
        "    precision = tp / (tp + fp + epsilon)\n",
        "    recall = tp / (tp + fn + epsilon)\n",
        "    \n",
        "    f1 = 2* (precision*recall) / (precision + recall + epsilon)\n",
        "    f1.requires_grad = is_training\n",
        "    return f1"
      ],
      "execution_count": 0,
      "outputs": []
    },
    {
      "cell_type": "code",
      "metadata": {
        "id": "1tVF0dS5M8ZU",
        "colab_type": "code",
        "colab": {}
      },
      "source": [
        "#loss_function = nn.CrossEntropyLoss()\n",
        "optimizer = torch.optim.Adam(model.parameters(), lr=0.001)"
      ],
      "execution_count": 0,
      "outputs": []
    },
    {
      "cell_type": "code",
      "metadata": {
        "id": "3naw16y6M8Vr",
        "colab_type": "code",
        "outputId": "2d2616c7-0971-4771-84d5-095ccaa577f2",
        "colab": {
          "base_uri": "https://localhost:8080/",
          "height": 238
        }
      },
      "source": [
        "epochs = 300\n",
        "aggregated_losses = []\n",
        "\n",
        "for i in range(epochs):\n",
        "    i += 1\n",
        "    y_pred = model(categorical_train_data, numerical_train_data)\n",
        "    single_loss = f1_loss(train_outputs, y_pred,is_training=True)\n",
        "    aggregated_losses.append(single_loss)\n",
        "\n",
        "    if i%25 == 1:\n",
        "        print(f'epoch: {i:3} loss: {single_loss.item():10.8f}')\n",
        "\n",
        "    optimizer.zero_grad()\n",
        "    single_loss.backward()\n",
        "    optimizer.step()\n",
        "\n",
        "print(f'epoch: {i:3} loss: {single_loss.item():10.10f}')"
      ],
      "execution_count": 0,
      "outputs": [
        {
          "output_type": "stream",
          "text": [
            "epoch:   1 loss: 1.40321541\n",
            "epoch:  26 loss: 1.40191722\n",
            "epoch:  51 loss: 1.40525901\n",
            "epoch:  76 loss: 1.40059328\n",
            "epoch: 101 loss: 1.40354681\n",
            "epoch: 126 loss: 1.40235507\n",
            "epoch: 151 loss: 1.40055835\n",
            "epoch: 176 loss: 1.40380335\n",
            "epoch: 201 loss: 1.40440142\n",
            "epoch: 226 loss: 1.40474999\n",
            "epoch: 251 loss: 1.40242434\n",
            "epoch: 276 loss: 1.40346122\n",
            "epoch: 300 loss: 1.4021377563\n"
          ],
          "name": "stdout"
        }
      ]
    },
    {
      "cell_type": "code",
      "metadata": {
        "id": "aU8uqtr_FpwU",
        "colab_type": "code",
        "outputId": "e3f0ce10-594c-4a6f-aa4f-8ff2a58253fc",
        "colab": {
          "base_uri": "https://localhost:8080/",
          "height": 279
        }
      },
      "source": [
        "plt.plot(range(epochs), aggregated_losses)\n",
        "plt.ylabel('Loss')\n",
        "plt.xlabel('epoch');"
      ],
      "execution_count": 0,
      "outputs": [
        {
          "output_type": "display_data",
          "data": {
            "image/png": "[encoded data removed]",
            "text/plain": [
              "<Figure size 432x288 with 1 Axes>"
            ]
          },
          "metadata": {
            "tags": []
          }
        }
      ]
    },
    {
      "cell_type": "markdown",
      "metadata": {
        "id": "Eie7yL3bxWz4",
        "colab_type": "text"
      },
      "source": [
        "Evaluamos con el dataset de test que salió del entrenamiento."
      ]
    },
    {
      "cell_type": "code",
      "metadata": {
        "id": "cYRwZjLpdO4x",
        "colab_type": "code",
        "outputId": "a970477c-ce45-459d-bee1-e1cf9d3abf1c",
        "colab": {
          "base_uri": "https://localhost:8080/",
          "height": 51
        }
      },
      "source": [
        "with torch.no_grad():\n",
        "    y_val = model(categorical_test_data, numerical_test_data)\n",
        "    loss = f1_loss(test_outputs, y_val)\n",
        "print(f'Loss: {loss:.8f}')\n",
        "print(np.argmax(y_val, axis=1))"
      ],
      "execution_count": 0,
      "outputs": [
        {
          "output_type": "stream",
          "text": [
            "Loss: 1.40165603\n",
            "tensor([2, 1, 1,  ..., 2, 0, 2])\n"
          ],
          "name": "stdout"
        }
      ]
    },
    {
      "cell_type": "markdown",
      "metadata": {
        "id": "lUDEhkm-xevV",
        "colab_type": "text"
      },
      "source": [
        "Evaluamos sobre el conjunto de test original para la competición, pero antes debemos tratar las variables igual que hicimos con el entrenamiento.\n"
      ]
    },
    {
      "cell_type": "code",
      "metadata": {
        "id": "XBs4LZi01fnd",
        "colab_type": "code",
        "outputId": "b2ab7985-6e98-4878-dbd2-93a791a3044b",
        "colab": {
          "base_uri": "https://localhost:8080/",
          "height": 119
        }
      },
      "source": [
        "t = test.drop(columns=['geo_level_1_id','geo_level_2_id','geo_level_3_id']).dropna()\n",
        "test_categorical_columns = t.select_dtypes('object').columns\n",
        "test_numerical_columns = t.select_dtypes('int64').columns\n",
        "for category in test_categorical_columns:\n",
        "    t[category] = t[category].astype('category')\n",
        "test_categorical_data = np.stack([t[col].cat.codes.values for col in test_categorical_columns], 1)\n",
        "test_categorical_data = torch.tensor(test_categorical_data, dtype=torch.int64)\n",
        "test_numerical_data = np.stack([t[col].values for col in test_numerical_columns], 1)\n",
        "test_numerical_data = torch.tensor(test_numerical_data, dtype=torch.float)\n",
        "\n",
        "with torch.no_grad():\n",
        "    test_val = model(test_categorical_data, test_numerical_data)\n",
        "print(test_val[:5])"
      ],
      "execution_count": 0,
      "outputs": [
        {
          "output_type": "stream",
          "text": [
            "Loss: 1.26852286\n",
            "tensor([[-0.1914,  0.1720,  0.2634],\n",
            "        [ 0.0294, -0.5036, -0.4244],\n",
            "        [ 0.1353,  0.2273, -0.2545],\n",
            "        [-1.0235,  0.1815,  0.0457],\n",
            "        [-0.8245, -0.6699,  0.9151]])\n"
          ],
          "name": "stdout"
        }
      ]
    },
    {
      "cell_type": "code",
      "metadata": {
        "id": "PNIWj1VgdO2R",
        "colab_type": "code",
        "colab": {}
      },
      "source": [
        "test_val = np.argmax(test_val, axis=1)"
      ],
      "execution_count": 0,
      "outputs": []
    },
    {
      "cell_type": "code",
      "metadata": {
        "id": "6_f4gDne2C7E",
        "colab_type": "code",
        "outputId": "1d0e8147-69f7-4b63-c8b8-0587db27e244",
        "colab": {
          "base_uri": "https://localhost:8080/",
          "height": 34
        }
      },
      "source": [
        "np.unique(train.damage_grade)"
      ],
      "execution_count": 0,
      "outputs": [
        {
          "output_type": "execute_result",
          "data": {
            "text/plain": [
              "array([1, 2, 3])"
            ]
          },
          "metadata": {
            "tags": []
          },
          "execution_count": 173
        }
      ]
    },
    {
      "cell_type": "code",
      "metadata": {
        "id": "WQQB1l7odOyL",
        "colab_type": "code",
        "outputId": "b0746880-b70c-464d-9bbc-4702a2fd085e",
        "colab": {
          "base_uri": "https://localhost:8080/",
          "height": 394
        }
      },
      "source": [
        "from sklearn.metrics import classification_report, confusion_matrix, accuracy_score, f1_score\n",
        "\n",
        "print(confusion_matrix(test_outputs, y_val))\n",
        "print(classification_report(test_outputs, y_val))\n",
        "print(accuracy_score(test_outputs, y_val))\n",
        "print(f1_score(test_outputs, y_val, average = 'micro'))"
      ],
      "execution_count": 0,
      "outputs": [
        {
          "output_type": "stream",
          "text": [
            "[[    0     0     0     0]\n",
            " [ 1645  1267  2132     0]\n",
            " [13145  6429 10051     0]\n",
            " [ 8031  3738  5682     0]]\n",
            "              precision    recall  f1-score   support\n",
            "\n",
            "           0       0.00      0.00      0.00         0\n",
            "           1       0.11      0.25      0.15      5044\n",
            "           2       0.56      0.34      0.42     29625\n",
            "           3       0.00      0.00      0.00     17451\n",
            "\n",
            "    accuracy                           0.22     52120\n",
            "   macro avg       0.17      0.15      0.14     52120\n",
            "weighted avg       0.33      0.22      0.26     52120\n",
            "\n",
            "0.2171527244819647\n",
            "0.2171527244819647\n"
          ],
          "name": "stdout"
        },
        {
          "output_type": "stream",
          "text": [
            "/usr/local/lib/python3.6/dist-packages/sklearn/metrics/_classification.py:1272: UndefinedMetricWarning: Precision and F-score are ill-defined and being set to 0.0 in labels with no predicted samples. Use `zero_division` parameter to control this behavior.\n",
            "  _warn_prf(average, modifier, msg_start, len(result))\n",
            "/usr/local/lib/python3.6/dist-packages/sklearn/metrics/_classification.py:1272: UndefinedMetricWarning: Recall and F-score are ill-defined and being set to 0.0 in labels with no true samples. Use `zero_division` parameter to control this behavior.\n",
            "  _warn_prf(average, modifier, msg_start, len(result))\n"
          ],
          "name": "stderr"
        }
      ]
    },
    {
      "cell_type": "code",
      "metadata": {
        "id": "kQJ6Au3Pv3px",
        "colab_type": "code",
        "outputId": "ca59ad83-bc9a-4543-e50d-3186ab08d8f8",
        "colab": {
          "base_uri": "https://localhost:8080/",
          "height": 34
        }
      },
      "source": [
        "y_val.numpy()"
      ],
      "execution_count": 0,
      "outputs": [
        {
          "output_type": "execute_result",
          "data": {
            "text/plain": [
              "array([2, 2, 0, ..., 2, 0, 1])"
            ]
          },
          "metadata": {
            "tags": []
          },
          "execution_count": 158
        }
      ]
    },
    {
      "cell_type": "code",
      "metadata": {
        "id": "dgHRQKF9xJYe",
        "colab_type": "code",
        "colab": {}
      },
      "source": [
        "output = pd.DataFrame({'building_id': test['building_id'], \n",
        "                       'damage_grade': y_val.numpy()})\n",
        "\n",
        "timestamp = str(np.rint(datetime.timestamp(datetime.now())).astype(int))\n",
        "\n",
        "path = \"/content/\" + timestamp + \"_RF_competition_result.csv\"\n",
        "output.to_csv(path_or_buf=path, index=False)"
      ],
      "execution_count": 0,
      "outputs": []
    },
    {
      "cell_type": "markdown",
      "metadata": {
        "id": "bMqcOPwn-6tP",
        "colab_type": "text"
      },
      "source": [
        "## *Red neuronal - sklearn* (DEPRECATED)"
      ]
    },
    {
      "cell_type": "code",
      "metadata": {
        "id": "EDay2Msx_BxX",
        "colab_type": "code",
        "outputId": "a5a0b0cc-fcca-40b0-b948-3c99e4f13899",
        "colab": {
          "base_uri": "https://localhost:8080/",
          "height": 520
        }
      },
      "source": [
        "test = test.drop(['building_id'], axis=1)\n",
        "test.columns"
      ],
      "execution_count": 0,
      "outputs": [
        {
          "output_type": "execute_result",
          "data": {
            "text/plain": [
              "Index(['geo_level_1_id', 'geo_level_2_id', 'geo_level_3_id',\n",
              "       'count_floors_pre_eq', 'age', 'area_percentage', 'height_percentage',\n",
              "       'has_superstructure_adobe_mud', 'has_superstructure_mud_mortar_stone',\n",
              "       'has_superstructure_stone_flag',\n",
              "       'has_superstructure_cement_mortar_stone',\n",
              "       'has_superstructure_mud_mortar_brick',\n",
              "       'has_superstructure_cement_mortar_brick', 'has_superstructure_timber',\n",
              "       'has_superstructure_bamboo', 'has_superstructure_rc_non_engineered',\n",
              "       'has_superstructure_rc_engineered', 'has_superstructure_other',\n",
              "       'count_families', 'has_secondary_use', 'has_secondary_use_agriculture',\n",
              "       'has_secondary_use_hotel', 'has_secondary_use_rental',\n",
              "       'has_secondary_use_institution', 'has_secondary_use_school',\n",
              "       'has_secondary_use_industry', 'has_secondary_use_health_post',\n",
              "       'has_secondary_use_gov_office', 'has_secondary_use_use_police',\n",
              "       'has_secondary_use_other', 'land_surface_condition_n',\n",
              "       'land_surface_condition_o', 'land_surface_condition_t',\n",
              "       'foundation_type_h', 'foundation_type_i', 'foundation_type_r',\n",
              "       'foundation_type_u', 'foundation_type_w', 'roof_type_n', 'roof_type_q',\n",
              "       'roof_type_x', 'ground_floor_type_f', 'ground_floor_type_m',\n",
              "       'ground_floor_type_v', 'ground_floor_type_x', 'ground_floor_type_z',\n",
              "       'other_floor_type_j', 'other_floor_type_q', 'other_floor_type_s',\n",
              "       'other_floor_type_x', 'position_j', 'position_o', 'position_s',\n",
              "       'position_t', 'plan_configuration_a', 'plan_configuration_c',\n",
              "       'plan_configuration_d', 'plan_configuration_f', 'plan_configuration_m',\n",
              "       'plan_configuration_n', 'plan_configuration_o', 'plan_configuration_q',\n",
              "       'plan_configuration_s', 'plan_configuration_u',\n",
              "       'legal_ownership_status_a', 'legal_ownership_status_r',\n",
              "       'legal_ownership_status_v', 'legal_ownership_status_w'],\n",
              "      dtype='object')"
            ]
          },
          "metadata": {
            "tags": []
          },
          "execution_count": 38
        }
      ]
    },
    {
      "cell_type": "code",
      "metadata": {
        "id": "jQVolPWy_B2N",
        "colab_type": "code",
        "outputId": "2e132d23-54c2-49e2-d3d6-f5948d210786",
        "colab": {
          "base_uri": "https://localhost:8080/",
          "height": 211
        }
      },
      "source": [
        "from sklearn.neural_network import MLPClassifier\n",
        "#https://scikit-learn.org/stable/modules/neural_networks_supervised.html\n",
        "\n",
        "clf = MLPClassifier(solver='lbfgs', alpha=1e-5, hidden_layer_sizes=(5, 2), random_state=1)\n",
        "clf.fit(X, y)\n",
        "#MLPClassifier(alpha=1e-05, hidden_layer_sizes=(5, 2), random_state=1,\n",
        "#              solver='lbfgs')"
      ],
      "execution_count": 0,
      "outputs": [
        {
          "output_type": "stream",
          "text": [
            "/usr/local/lib/python3.6/dist-packages/sklearn/neural_network/_multilayer_perceptron.py:934: DataConversionWarning: A column-vector y was passed when a 1d array was expected. Please change the shape of y to (n_samples, ), for example using ravel().\n",
            "  y = column_or_1d(y, warn=True)\n"
          ],
          "name": "stderr"
        },
        {
          "output_type": "execute_result",
          "data": {
            "text/plain": [
              "MLPClassifier(activation='relu', alpha=1e-05, batch_size='auto', beta_1=0.9,\n",
              "              beta_2=0.999, early_stopping=False, epsilon=1e-08,\n",
              "              hidden_layer_sizes=(5, 2), learning_rate='constant',\n",
              "              learning_rate_init=0.001, max_fun=15000, max_iter=200,\n",
              "              momentum=0.9, n_iter_no_change=10, nesterovs_momentum=True,\n",
              "              power_t=0.5, random_state=1, shuffle=True, solver='lbfgs',\n",
              "              tol=0.0001, validation_fraction=0.1, verbose=False,\n",
              "              warm_start=False)"
            ]
          },
          "metadata": {
            "tags": []
          },
          "execution_count": 39
        }
      ]
    },
    {
      "cell_type": "code",
      "metadata": {
        "id": "jxZ4RKtV_B0P",
        "colab_type": "code",
        "outputId": "1c263b4d-01b7-457b-86e2-09f8144ca0b6",
        "colab": {
          "base_uri": "https://localhost:8080/",
          "height": 35
        }
      },
      "source": [
        "# Revisar por que me predice solo una de las categorias.\n",
        "y_pred = clf.predict(test)\n",
        "np.unique(y_pred)"
      ],
      "execution_count": 0,
      "outputs": [
        {
          "output_type": "execute_result",
          "data": {
            "text/plain": [
              "array([3])"
            ]
          },
          "metadata": {
            "tags": []
          },
          "execution_count": 42
        }
      ]
    }
  ]
}